{
  "nbformat": 4,
  "nbformat_minor": 0,
  "metadata": {
    "colab": {
      "provenance": [],
      "authorship_tag": "ABX9TyMBW3KeItbR1vJ1ZCTq/9ko",
      "include_colab_link": true
    },
    "kernelspec": {
      "name": "python3",
      "display_name": "Python 3"
    },
    "language_info": {
      "name": "python"
    }
  },
  "cells": [
    {
      "cell_type": "markdown",
      "metadata": {
        "id": "view-in-github",
        "colab_type": "text"
      },
      "source": [
        "<a href=\"https://colab.research.google.com/github/Haw1es/skills-introduction-to-github/blob/main/Untitled2.ipynb\" target=\"_parent\"><img src=\"https://colab.research.google.com/assets/colab-badge.svg\" alt=\"Open In Colab\"/></a>"
      ]
    },
    {
      "cell_type": "code",
      "execution_count": null,
      "metadata": {
        "id": "RqXfet3_cA4I",
        "outputId": "fe06adc1-9e1f-4475-a757-04715bca6007",
        "colab": {
          "base_uri": "https://localhost:8080/"
        }
      },
      "outputs": [
        {
          "output_type": "stream",
          "name": "stdout",
          "text": [
            "Enter the website URL: http://py4e-data.dr-chuck.net/comments_42.json\n",
            "Data successfully processed and stored in website_data.sqlite\n"
          ]
        }
      ],
      "source": [
        "import sqlite3\n",
        "import json\n",
        "import urllib.request\n",
        "import urllib.error\n",
        "import sys\n",
        "\n",
        "\n",
        "def create_table(cursor):\n",
        "    cursor.execute('''\n",
        "        CREATE TABLE IF NOT EXISTS json_data (\n",
        "            url TEXT,\n",
        "            heading TEXT,\n",
        "            content TEXT\n",
        "        )\n",
        "    ''')\n",
        "\n",
        "\n",
        "def insert_data(cursor, url, heading, content):\n",
        "    try:\n",
        "        cursor.execute('''\n",
        "            INSERT INTO json_data (url, heading, content)\n",
        "            VALUES (?, ?, ?)\n",
        "        ''', (url, heading, content))\n",
        "    except sqlite3.Error as e:\n",
        "        print(f\"Error inserting data: {e}\")\n",
        "\n",
        "\n",
        "def fetch_json_data(url):\n",
        "    data = \"\"\n",
        "    try:\n",
        "        with urllib.request.urlopen(url) as response:\n",
        "            data = response.read().decode('utf-8')\n",
        "            return json.loads(data)\n",
        "    except urllib.error.URLError as e:\n",
        "        print(f\"Error fetching data from {url}: {e}\")\n",
        "        return None\n",
        "    except json.JSONDecodeError as e:\n",
        "        print(f\"Error decoding JSON from {url}: {e}\")\n",
        "        print(f\"The invalid JSON data is: {data}\")\n",
        "        return None\n",
        "    except Exception as e:\n",
        "        print(f\"An unexpected error occurred: {e}\")\n",
        "        return None\n",
        "\n",
        "\n",
        "def process_json_data(cursor, url, json_data):\n",
        "    if isinstance(json_data, dict):\n",
        "        for heading, content in json_data.items():\n",
        "            if isinstance(content, (dict, list)):\n",
        "                process_json_data(cursor, url, content)\n",
        "            else:\n",
        "                insert_data(cursor, url, str(heading), str(content))\n",
        "    elif isinstance(json_data, list):\n",
        "        for item in json_data:\n",
        "            process_json_data(cursor, url, item)\n",
        "\n",
        "\n",
        "def main():\n",
        "    try:\n",
        "        website_url = input(\"Enter the website URL: \")\n",
        "        if not website_url:\n",
        "            print(\"URL cannot be empty.\")\n",
        "            return\n",
        "    except OSError as e:\n",
        "        print(f\"I/O error occurred: {e}\")\n",
        "        return\n",
        "\n",
        "    if not website_url.startswith(\"http://\") and not website_url.startswith(\"https://\"):\n",
        "        website_url = \"http://\" + website_url\n",
        "\n",
        "    data = fetch_json_data(website_url)\n",
        "    if data is None:\n",
        "        print(\"Failed to retrieve or decode JSON data. Exiting.\")\n",
        "        return\n",
        "\n",
        "    conn = sqlite3.connect('website_data.sqlite')\n",
        "    cursor = conn.cursor()\n",
        "\n",
        "    create_table(cursor)\n",
        "    process_json_data(cursor, website_url, data)\n",
        "\n",
        "    conn.commit()\n",
        "    conn.close()\n",
        "    print(\"Data successfully processed and stored in website_data.sqlite\")\n",
        "\n",
        "\n",
        "if __name__ == \"__main__\":\n",
        "    main()\n"
      ]
    }
  ]
}
